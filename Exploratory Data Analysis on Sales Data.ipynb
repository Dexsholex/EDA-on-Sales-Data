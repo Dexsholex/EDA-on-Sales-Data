{
 "cells": [
  {
   "cell_type": "markdown",
   "id": "dc9153ac",
   "metadata": {},
   "source": [
    "## Importing Librabries"
   ]
  },
  {
   "cell_type": "code",
   "execution_count": 31,
   "id": "70c0e722",
   "metadata": {},
   "outputs": [],
   "source": [
    "import numpy as np\n",
    "import pandas as pd\n",
    "import seaborn as sns\n",
    "import matplotlib.pyplot as plt\n",
    "import plotly.express as px\n",
    "import warnings\n",
    "warnings.filterwarnings('ignore')\n",
    "%matplotlib inline"
   ]
  },
  {
   "cell_type": "markdown",
   "id": "64642556",
   "metadata": {},
   "source": [
    "## Data Preprocessing & Cleaning"
   ]
  },
  {
   "cell_type": "code",
   "execution_count": 32,
   "id": "f6c374fc",
   "metadata": {},
   "outputs": [
    {
     "data": {
      "text/html": [
       "<div>\n",
       "<style scoped>\n",
       "    .dataframe tbody tr th:only-of-type {\n",
       "        vertical-align: middle;\n",
       "    }\n",
       "\n",
       "    .dataframe tbody tr th {\n",
       "        vertical-align: top;\n",
       "    }\n",
       "\n",
       "    .dataframe thead th {\n",
       "        text-align: right;\n",
       "    }\n",
       "</style>\n",
       "<table border=\"1\" class=\"dataframe\">\n",
       "  <thead>\n",
       "    <tr style=\"text-align: right;\">\n",
       "      <th></th>\n",
       "      <th>ORDERNUMBER</th>\n",
       "      <th>QUANTITYORDERED</th>\n",
       "      <th>PRICEEACH</th>\n",
       "      <th>ORDERLINENUMBER</th>\n",
       "      <th>SALES</th>\n",
       "      <th>ORDERDATE</th>\n",
       "      <th>STATUS</th>\n",
       "      <th>QTR_ID</th>\n",
       "      <th>MONTH_ID</th>\n",
       "      <th>YEAR_ID</th>\n",
       "      <th>...</th>\n",
       "      <th>ADDRESSLINE1</th>\n",
       "      <th>ADDRESSLINE2</th>\n",
       "      <th>CITY</th>\n",
       "      <th>STATE</th>\n",
       "      <th>POSTALCODE</th>\n",
       "      <th>COUNTRY</th>\n",
       "      <th>TERRITORY</th>\n",
       "      <th>CONTACTLASTNAME</th>\n",
       "      <th>CONTACTFIRSTNAME</th>\n",
       "      <th>DEALSIZE</th>\n",
       "    </tr>\n",
       "  </thead>\n",
       "  <tbody>\n",
       "    <tr>\n",
       "      <th>0</th>\n",
       "      <td>10107</td>\n",
       "      <td>30</td>\n",
       "      <td>95.70</td>\n",
       "      <td>2</td>\n",
       "      <td>2871.00</td>\n",
       "      <td>2/24/2003 0:00</td>\n",
       "      <td>Shipped</td>\n",
       "      <td>1</td>\n",
       "      <td>2</td>\n",
       "      <td>2003</td>\n",
       "      <td>...</td>\n",
       "      <td>897 Long Airport Avenue</td>\n",
       "      <td>NaN</td>\n",
       "      <td>NYC</td>\n",
       "      <td>NY</td>\n",
       "      <td>10022</td>\n",
       "      <td>USA</td>\n",
       "      <td>NaN</td>\n",
       "      <td>Yu</td>\n",
       "      <td>Kwai</td>\n",
       "      <td>Small</td>\n",
       "    </tr>\n",
       "    <tr>\n",
       "      <th>1</th>\n",
       "      <td>10121</td>\n",
       "      <td>34</td>\n",
       "      <td>81.35</td>\n",
       "      <td>5</td>\n",
       "      <td>2765.90</td>\n",
       "      <td>5/7/2003 0:00</td>\n",
       "      <td>Shipped</td>\n",
       "      <td>2</td>\n",
       "      <td>5</td>\n",
       "      <td>2003</td>\n",
       "      <td>...</td>\n",
       "      <td>59 rue de l'Abbaye</td>\n",
       "      <td>NaN</td>\n",
       "      <td>Reims</td>\n",
       "      <td>NaN</td>\n",
       "      <td>51100</td>\n",
       "      <td>France</td>\n",
       "      <td>EMEA</td>\n",
       "      <td>Henriot</td>\n",
       "      <td>Paul</td>\n",
       "      <td>Small</td>\n",
       "    </tr>\n",
       "    <tr>\n",
       "      <th>2</th>\n",
       "      <td>10134</td>\n",
       "      <td>41</td>\n",
       "      <td>94.74</td>\n",
       "      <td>2</td>\n",
       "      <td>3884.34</td>\n",
       "      <td>7/1/2003 0:00</td>\n",
       "      <td>Shipped</td>\n",
       "      <td>3</td>\n",
       "      <td>7</td>\n",
       "      <td>2003</td>\n",
       "      <td>...</td>\n",
       "      <td>27 rue du Colonel Pierre Avia</td>\n",
       "      <td>NaN</td>\n",
       "      <td>Paris</td>\n",
       "      <td>NaN</td>\n",
       "      <td>75508</td>\n",
       "      <td>France</td>\n",
       "      <td>EMEA</td>\n",
       "      <td>Da Cunha</td>\n",
       "      <td>Daniel</td>\n",
       "      <td>Medium</td>\n",
       "    </tr>\n",
       "    <tr>\n",
       "      <th>3</th>\n",
       "      <td>10145</td>\n",
       "      <td>45</td>\n",
       "      <td>83.26</td>\n",
       "      <td>6</td>\n",
       "      <td>3746.70</td>\n",
       "      <td>8/25/2003 0:00</td>\n",
       "      <td>Shipped</td>\n",
       "      <td>3</td>\n",
       "      <td>8</td>\n",
       "      <td>2003</td>\n",
       "      <td>...</td>\n",
       "      <td>78934 Hillside Dr.</td>\n",
       "      <td>NaN</td>\n",
       "      <td>Pasadena</td>\n",
       "      <td>CA</td>\n",
       "      <td>90003</td>\n",
       "      <td>USA</td>\n",
       "      <td>NaN</td>\n",
       "      <td>Young</td>\n",
       "      <td>Julie</td>\n",
       "      <td>Medium</td>\n",
       "    </tr>\n",
       "    <tr>\n",
       "      <th>4</th>\n",
       "      <td>10159</td>\n",
       "      <td>49</td>\n",
       "      <td>100.00</td>\n",
       "      <td>14</td>\n",
       "      <td>5205.27</td>\n",
       "      <td>10/10/2003 0:00</td>\n",
       "      <td>Shipped</td>\n",
       "      <td>4</td>\n",
       "      <td>10</td>\n",
       "      <td>2003</td>\n",
       "      <td>...</td>\n",
       "      <td>7734 Strong St.</td>\n",
       "      <td>NaN</td>\n",
       "      <td>San Francisco</td>\n",
       "      <td>CA</td>\n",
       "      <td>NaN</td>\n",
       "      <td>USA</td>\n",
       "      <td>NaN</td>\n",
       "      <td>Brown</td>\n",
       "      <td>Julie</td>\n",
       "      <td>Medium</td>\n",
       "    </tr>\n",
       "  </tbody>\n",
       "</table>\n",
       "<p>5 rows × 25 columns</p>\n",
       "</div>"
      ],
      "text/plain": [
       "   ORDERNUMBER  QUANTITYORDERED  PRICEEACH  ORDERLINENUMBER    SALES  \\\n",
       "0        10107               30      95.70                2  2871.00   \n",
       "1        10121               34      81.35                5  2765.90   \n",
       "2        10134               41      94.74                2  3884.34   \n",
       "3        10145               45      83.26                6  3746.70   \n",
       "4        10159               49     100.00               14  5205.27   \n",
       "\n",
       "         ORDERDATE   STATUS  QTR_ID  MONTH_ID  YEAR_ID  ...  \\\n",
       "0   2/24/2003 0:00  Shipped       1         2     2003  ...   \n",
       "1    5/7/2003 0:00  Shipped       2         5     2003  ...   \n",
       "2    7/1/2003 0:00  Shipped       3         7     2003  ...   \n",
       "3   8/25/2003 0:00  Shipped       3         8     2003  ...   \n",
       "4  10/10/2003 0:00  Shipped       4        10     2003  ...   \n",
       "\n",
       "                    ADDRESSLINE1  ADDRESSLINE2           CITY STATE  \\\n",
       "0        897 Long Airport Avenue           NaN            NYC    NY   \n",
       "1             59 rue de l'Abbaye           NaN          Reims   NaN   \n",
       "2  27 rue du Colonel Pierre Avia           NaN          Paris   NaN   \n",
       "3             78934 Hillside Dr.           NaN       Pasadena    CA   \n",
       "4                7734 Strong St.           NaN  San Francisco    CA   \n",
       "\n",
       "  POSTALCODE COUNTRY TERRITORY CONTACTLASTNAME CONTACTFIRSTNAME DEALSIZE  \n",
       "0      10022     USA       NaN              Yu             Kwai    Small  \n",
       "1      51100  France      EMEA         Henriot             Paul    Small  \n",
       "2      75508  France      EMEA        Da Cunha           Daniel   Medium  \n",
       "3      90003     USA       NaN           Young            Julie   Medium  \n",
       "4        NaN     USA       NaN           Brown            Julie   Medium  \n",
       "\n",
       "[5 rows x 25 columns]"
      ]
     },
     "execution_count": 32,
     "metadata": {},
     "output_type": "execute_result"
    }
   ],
   "source": [
    "df = pd.read_csv('sales_data_sample.csv', sep=',', \n",
    "                 encoding='cp1252')\n",
    "df.head(5)"
   ]
  },
  {
   "cell_type": "code",
   "execution_count": 33,
   "id": "7bc8ec58",
   "metadata": {},
   "outputs": [
    {
     "data": {
      "text/plain": [
       "(2823, 25)"
      ]
     },
     "execution_count": 33,
     "metadata": {},
     "output_type": "execute_result"
    }
   ],
   "source": [
    "df.shape"
   ]
  },
  {
   "cell_type": "code",
   "execution_count": 34,
   "id": "c36582ba",
   "metadata": {},
   "outputs": [
    {
     "data": {
      "text/plain": [
       "Index(['ORDERNUMBER', 'QUANTITYORDERED', 'PRICEEACH', 'ORDERLINENUMBER',\n",
       "       'SALES', 'ORDERDATE', 'STATUS', 'QTR_ID', 'MONTH_ID', 'YEAR_ID',\n",
       "       'PRODUCTLINE', 'MSRP', 'PRODUCTCODE', 'CUSTOMERNAME', 'PHONE',\n",
       "       'ADDRESSLINE1', 'ADDRESSLINE2', 'CITY', 'STATE', 'POSTALCODE',\n",
       "       'COUNTRY', 'TERRITORY', 'CONTACTLASTNAME', 'CONTACTFIRSTNAME',\n",
       "       'DEALSIZE'],\n",
       "      dtype='object')"
      ]
     },
     "execution_count": 34,
     "metadata": {},
     "output_type": "execute_result"
    }
   ],
   "source": [
    "df.columns"
   ]
  },
  {
   "cell_type": "code",
   "execution_count": 35,
   "id": "3e41a047",
   "metadata": {},
   "outputs": [
    {
     "name": "stdout",
     "output_type": "stream",
     "text": [
      "<class 'pandas.core.frame.DataFrame'>\n",
      "RangeIndex: 2823 entries, 0 to 2822\n",
      "Data columns (total 25 columns):\n",
      " #   Column            Non-Null Count  Dtype  \n",
      "---  ------            --------------  -----  \n",
      " 0   ORDERNUMBER       2823 non-null   int64  \n",
      " 1   QUANTITYORDERED   2823 non-null   int64  \n",
      " 2   PRICEEACH         2823 non-null   float64\n",
      " 3   ORDERLINENUMBER   2823 non-null   int64  \n",
      " 4   SALES             2823 non-null   float64\n",
      " 5   ORDERDATE         2823 non-null   object \n",
      " 6   STATUS            2823 non-null   object \n",
      " 7   QTR_ID            2823 non-null   int64  \n",
      " 8   MONTH_ID          2823 non-null   int64  \n",
      " 9   YEAR_ID           2823 non-null   int64  \n",
      " 10  PRODUCTLINE       2823 non-null   object \n",
      " 11  MSRP              2823 non-null   int64  \n",
      " 12  PRODUCTCODE       2823 non-null   object \n",
      " 13  CUSTOMERNAME      2823 non-null   object \n",
      " 14  PHONE             2823 non-null   object \n",
      " 15  ADDRESSLINE1      2823 non-null   object \n",
      " 16  ADDRESSLINE2      302 non-null    object \n",
      " 17  CITY              2823 non-null   object \n",
      " 18  STATE             1337 non-null   object \n",
      " 19  POSTALCODE        2747 non-null   object \n",
      " 20  COUNTRY           2823 non-null   object \n",
      " 21  TERRITORY         1749 non-null   object \n",
      " 22  CONTACTLASTNAME   2823 non-null   object \n",
      " 23  CONTACTFIRSTNAME  2823 non-null   object \n",
      " 24  DEALSIZE          2823 non-null   object \n",
      "dtypes: float64(2), int64(7), object(16)\n",
      "memory usage: 551.5+ KB\n"
     ]
    }
   ],
   "source": [
    "df.info()"
   ]
  },
  {
   "cell_type": "code",
   "execution_count": 36,
   "id": "0daebf86",
   "metadata": {},
   "outputs": [
    {
     "data": {
      "text/plain": [
       "ORDERNUMBER            0\n",
       "QUANTITYORDERED        0\n",
       "PRICEEACH              0\n",
       "ORDERLINENUMBER        0\n",
       "SALES                  0\n",
       "ORDERDATE              0\n",
       "STATUS                 0\n",
       "QTR_ID                 0\n",
       "MONTH_ID               0\n",
       "YEAR_ID                0\n",
       "PRODUCTLINE            0\n",
       "MSRP                   0\n",
       "PRODUCTCODE            0\n",
       "CUSTOMERNAME           0\n",
       "PHONE                  0\n",
       "ADDRESSLINE1           0\n",
       "ADDRESSLINE2        2521\n",
       "CITY                   0\n",
       "STATE               1486\n",
       "POSTALCODE            76\n",
       "COUNTRY                0\n",
       "TERRITORY           1074\n",
       "CONTACTLASTNAME        0\n",
       "CONTACTFIRSTNAME       0\n",
       "DEALSIZE               0\n",
       "dtype: int64"
      ]
     },
     "execution_count": 36,
     "metadata": {},
     "output_type": "execute_result"
    }
   ],
   "source": [
    "df.isnull().sum()"
   ]
  },
  {
   "cell_type": "code",
   "execution_count": 37,
   "id": "059c0054",
   "metadata": {},
   "outputs": [
    {
     "data": {
      "text/plain": [
       "0"
      ]
     },
     "execution_count": 37,
     "metadata": {},
     "output_type": "execute_result"
    }
   ],
   "source": [
    "df.duplicated().sum()"
   ]
  },
  {
   "cell_type": "code",
   "execution_count": 38,
   "id": "5beba485",
   "metadata": {},
   "outputs": [],
   "source": [
    "df.drop(['ORDERNUMBER', 'PRICEEACH', 'ORDERLINENUMBER', 'ORDERDATE',\n",
    "         'PRODUCTCODE', 'PHONE', 'ADDRESSLINE2',\n",
    "       'STATE', 'POSTALCODE', 'TERRITORY', 'CONTACTFIRSTNAME', \n",
    "       'CONTACTLASTNAME'], axis=1, inplace=True)"
   ]
  },
  {
   "cell_type": "code",
   "execution_count": 39,
   "id": "f050438e",
   "metadata": {},
   "outputs": [],
   "source": [
    "# Replace coded values with their month for 'MONTH_ID'\n",
    "df['MONTH_ID'].replace({1:'Jan', 2:'Feb', 3:'Mar', 4:'Apr',\n",
    "                        5:'May', 6:'Jun', 7:'Jul', 8:'Aug',\n",
    "                        9:'Sep', 10:'Oct', 11:'Nov', 12:'Dec'\n",
    "                       }, inplace=True)"
   ]
  },
  {
   "cell_type": "code",
   "execution_count": 40,
   "id": "c501486e",
   "metadata": {},
   "outputs": [
    {
     "data": {
      "text/html": [
       "<div>\n",
       "<style scoped>\n",
       "    .dataframe tbody tr th:only-of-type {\n",
       "        vertical-align: middle;\n",
       "    }\n",
       "\n",
       "    .dataframe tbody tr th {\n",
       "        vertical-align: top;\n",
       "    }\n",
       "\n",
       "    .dataframe thead th {\n",
       "        text-align: right;\n",
       "    }\n",
       "</style>\n",
       "<table border=\"1\" class=\"dataframe\">\n",
       "  <thead>\n",
       "    <tr style=\"text-align: right;\">\n",
       "      <th></th>\n",
       "      <th>QUANTITYORDERED</th>\n",
       "      <th>SALES</th>\n",
       "      <th>STATUS</th>\n",
       "      <th>QTR_ID</th>\n",
       "      <th>MONTH_ID</th>\n",
       "      <th>YEAR_ID</th>\n",
       "      <th>PRODUCTLINE</th>\n",
       "      <th>MSRP</th>\n",
       "      <th>CUSTOMERNAME</th>\n",
       "      <th>ADDRESSLINE1</th>\n",
       "      <th>CITY</th>\n",
       "      <th>COUNTRY</th>\n",
       "      <th>DEALSIZE</th>\n",
       "    </tr>\n",
       "  </thead>\n",
       "  <tbody>\n",
       "    <tr>\n",
       "      <th>1761</th>\n",
       "      <td>34</td>\n",
       "      <td>2166.14</td>\n",
       "      <td>Shipped</td>\n",
       "      <td>4</td>\n",
       "      <td>Nov</td>\n",
       "      <td>2004</td>\n",
       "      <td>Planes</td>\n",
       "      <td>68</td>\n",
       "      <td>giftsbymail.co.uk</td>\n",
       "      <td>Garden House Crowther Way</td>\n",
       "      <td>Cowes</td>\n",
       "      <td>UK</td>\n",
       "      <td>Small</td>\n",
       "    </tr>\n",
       "    <tr>\n",
       "      <th>1302</th>\n",
       "      <td>20</td>\n",
       "      <td>1790.60</td>\n",
       "      <td>Shipped</td>\n",
       "      <td>2</td>\n",
       "      <td>Jun</td>\n",
       "      <td>2004</td>\n",
       "      <td>Vintage Cars</td>\n",
       "      <td>87</td>\n",
       "      <td>Quebec Home Shopping Network</td>\n",
       "      <td>43 rue St. Laurent</td>\n",
       "      <td>Montreal</td>\n",
       "      <td>Canada</td>\n",
       "      <td>Small</td>\n",
       "    </tr>\n",
       "    <tr>\n",
       "      <th>2198</th>\n",
       "      <td>31</td>\n",
       "      <td>1384.46</td>\n",
       "      <td>Shipped</td>\n",
       "      <td>2</td>\n",
       "      <td>May</td>\n",
       "      <td>2003</td>\n",
       "      <td>Motorcycles</td>\n",
       "      <td>40</td>\n",
       "      <td>Marseille Mini Autos</td>\n",
       "      <td>12, rue des Bouchers</td>\n",
       "      <td>Marseille</td>\n",
       "      <td>France</td>\n",
       "      <td>Small</td>\n",
       "    </tr>\n",
       "    <tr>\n",
       "      <th>2515</th>\n",
       "      <td>31</td>\n",
       "      <td>2738.54</td>\n",
       "      <td>Shipped</td>\n",
       "      <td>4</td>\n",
       "      <td>Nov</td>\n",
       "      <td>2003</td>\n",
       "      <td>Ships</td>\n",
       "      <td>86</td>\n",
       "      <td>CAF Imports</td>\n",
       "      <td>Merchants House, 27-30 Merchant's Quay</td>\n",
       "      <td>Madrid</td>\n",
       "      <td>Spain</td>\n",
       "      <td>Small</td>\n",
       "    </tr>\n",
       "    <tr>\n",
       "      <th>2320</th>\n",
       "      <td>40</td>\n",
       "      <td>1780.40</td>\n",
       "      <td>Shipped</td>\n",
       "      <td>4</td>\n",
       "      <td>Dec</td>\n",
       "      <td>2004</td>\n",
       "      <td>Vintage Cars</td>\n",
       "      <td>68</td>\n",
       "      <td>Gift Ideas Corp.</td>\n",
       "      <td>2440 Pompton St.</td>\n",
       "      <td>Glendale</td>\n",
       "      <td>USA</td>\n",
       "      <td>Small</td>\n",
       "    </tr>\n",
       "  </tbody>\n",
       "</table>\n",
       "</div>"
      ],
      "text/plain": [
       "      QUANTITYORDERED    SALES   STATUS  QTR_ID MONTH_ID  YEAR_ID  \\\n",
       "1761               34  2166.14  Shipped       4      Nov     2004   \n",
       "1302               20  1790.60  Shipped       2      Jun     2004   \n",
       "2198               31  1384.46  Shipped       2      May     2003   \n",
       "2515               31  2738.54  Shipped       4      Nov     2003   \n",
       "2320               40  1780.40  Shipped       4      Dec     2004   \n",
       "\n",
       "       PRODUCTLINE  MSRP                  CUSTOMERNAME  \\\n",
       "1761        Planes    68             giftsbymail.co.uk   \n",
       "1302  Vintage Cars    87  Quebec Home Shopping Network   \n",
       "2198   Motorcycles    40          Marseille Mini Autos   \n",
       "2515         Ships    86                   CAF Imports   \n",
       "2320  Vintage Cars    68              Gift Ideas Corp.   \n",
       "\n",
       "                                ADDRESSLINE1       CITY COUNTRY DEALSIZE  \n",
       "1761               Garden House Crowther Way      Cowes      UK    Small  \n",
       "1302                      43 rue St. Laurent   Montreal  Canada    Small  \n",
       "2198                    12, rue des Bouchers  Marseille  France    Small  \n",
       "2515  Merchants House, 27-30 Merchant's Quay     Madrid   Spain    Small  \n",
       "2320                        2440 Pompton St.   Glendale     USA    Small  "
      ]
     },
     "execution_count": 40,
     "metadata": {},
     "output_type": "execute_result"
    }
   ],
   "source": [
    "df.sample(5)"
   ]
  },
  {
   "cell_type": "markdown",
   "id": "6b888d70",
   "metadata": {},
   "source": [
    "## Data Analysis & Visualization"
   ]
  },
  {
   "cell_type": "markdown",
   "id": "d376c5b2",
   "metadata": {},
   "source": [
    "### Q1. Which Year Had The Most Sales? "
   ]
  },
  {
   "cell_type": "code",
   "execution_count": 41,
   "id": "e3ce6bd9",
   "metadata": {},
   "outputs": [
    {
     "data": {
      "text/html": [
       "<div>\n",
       "<style scoped>\n",
       "    .dataframe tbody tr th:only-of-type {\n",
       "        vertical-align: middle;\n",
       "    }\n",
       "\n",
       "    .dataframe tbody tr th {\n",
       "        vertical-align: top;\n",
       "    }\n",
       "\n",
       "    .dataframe thead th {\n",
       "        text-align: right;\n",
       "    }\n",
       "</style>\n",
       "<table border=\"1\" class=\"dataframe\">\n",
       "  <thead>\n",
       "    <tr style=\"text-align: right;\">\n",
       "      <th></th>\n",
       "      <th>YEAR_ID</th>\n",
       "      <th>SALES</th>\n",
       "    </tr>\n",
       "  </thead>\n",
       "  <tbody>\n",
       "    <tr>\n",
       "      <th>0</th>\n",
       "      <td>2003</td>\n",
       "      <td>3516979.54</td>\n",
       "    </tr>\n",
       "    <tr>\n",
       "      <th>1</th>\n",
       "      <td>2004</td>\n",
       "      <td>4724162.60</td>\n",
       "    </tr>\n",
       "    <tr>\n",
       "      <th>2</th>\n",
       "      <td>2005</td>\n",
       "      <td>1791486.71</td>\n",
       "    </tr>\n",
       "  </tbody>\n",
       "</table>\n",
       "</div>"
      ],
      "text/plain": [
       "   YEAR_ID       SALES\n",
       "0     2003  3516979.54\n",
       "1     2004  4724162.60\n",
       "2     2005  1791486.71"
      ]
     },
     "execution_count": 41,
     "metadata": {},
     "output_type": "execute_result"
    }
   ],
   "source": [
    "df1 = df.groupby('YEAR_ID')[\"SALES\"].sum().reset_index()\n",
    "df1"
   ]
  },
  {
   "cell_type": "code",
   "execution_count": 56,
   "id": "482e6477",
   "metadata": {},
   "outputs": [],
   "source": [
    "def plot_sales(data, x_col, y_col, x_labels=None, title='Sales Over Time', xlabel=\"Time Period\", ylabel='Sales (Millions)', color='teal'):\n",
    "    \"\"\"\n",
    "    Plot a bar chart of sales data.\n",
    "    \n",
    "    Parameters:\n",
    "    data(DataFrame): The data frame containing the sales data.\n",
    "    x_col (str): The column name for the x-axis (e.g., years, months, quarters).\n",
    "    y_col (str): The column name for the y-axis (sales).\n",
    "    x_labels (list, optional): Custom labels for the x-axis ticks. Defaults to None.\n",
    "    title (str, optional): The title of the plot. Defaults to 'Sales Over Time'.\n",
    "    xlabel (str, optional): The label for the x-axis. Defaults to 'Time Period'.\n",
    "    ylabel (str, optional): The label for the y-axis. Defaults to 'Sales (Millions)'.\n",
    "    color (str, optional): The color of the bars. Defaults to 'teal'.\n",
    "    \"\"\"\n",
    "    # Ensure the data is sorted by x_col\n",
    "    data = data.sort_values(by=x_col)\n",
    "    \n",
    "    # Convert sales to millions\n",
    "    #data[y_col] = data[y_col] / 1e6\n",
    "    \n",
    "    # Set theme\n",
    "    sns.set_theme(font_scale=1.0)\n",
    "\n",
    "    # Create the figure and axes\n",
    "    fig, ax = plt.subplots(figsize=(12, 6))\n",
    "\n",
    "    # Plot the data\n",
    "    bars = ax.bar(data[x_col], data[y_col], color=color)\n",
    "\n",
    "    # Set labels and title\n",
    "    ax.set_xlabel(xlabel)\n",
    "    ax.set_ylabel(ylabel)\n",
    "    ax.set_title(title)\n",
    "    \n",
    "    # Set custom x-axis labels if provided\n",
    "    if x_labels:\n",
    "        ax.set_xticks(data[x_col])\n",
    "        ax.set_xticklabels(x_labels)\n",
    "    else:\n",
    "        ax.set_xticks(data[x_col])\n",
    "        ax.set_xticklabels(data[x_col].astype(str))\n",
    "\n",
    "    # Add bar labels\n",
    "    for bar in bars:\n",
    "        label = bar.get_height()\n",
    "        ax.text(bar.get_x() + bar.get_width()/2, label + 0.05, round(label, 0), ha='center', va='bottom')\n",
    "\n",
    "    plt.show()"
   ]
  },
  {
   "cell_type": "code",
   "execution_count": 57,
   "id": "3b9e27ea",
   "metadata": {},
   "outputs": [
    {
     "data": {
      "image/png": "[encoded data removed]",
      "text/plain": [
       "<Figure size 1200x600 with 1 Axes>"
      ]
     },
     "metadata": {},
     "output_type": "display_data"
    }
   ],
   "source": [
    "plot_sales(df1, 'YEAR_ID', 'SALES',  x_labels=['2003', '2004', '2005'], \n",
    "           title='Annual Sales in Millions', xlabel='Year')"
   ]
  },
  {
   "cell_type": "markdown",
   "id": "ee702f88",
   "metadata": {},
   "source": [
    "This plot shows that, out the three years, 2024 had the highest revenue; however, the data for 2024 is limited to five months."
   ]
  },
  {
   "cell_type": "markdown",
   "id": "1bf917b2",
   "metadata": {
    "scrolled": false
   },
   "source": [
    "# Convert to millions\n",
    "sales_in_millions = [SALE/1e6 for SALE in df1.SALES]\n",
    "\n",
    "# Set theme\n",
    "sns.set_theme(font_scale=1.0)\n",
    "\n",
    "# Create the figure size\n",
    "plt.figure(figsize=(8,4))\n",
    "\n",
    "# Plot\n",
    "fig, ax = plt.subplots()\n",
    "bars = ax.bar(df1.YEAR_ID, df1.SALES, color='teal')\n",
    "\n",
    "ax.bar(df1.YEAR_ID, df1.SALES)\n",
    "\n",
    "# add labels and title\n",
    "ax.set_xlabel('Year')\n",
    "ax.set_ylabel('Sales (Millions)')\n",
    "ax.set_title('Annual Sales in Millions')\n",
    "ax.set_xticks(df1.YEAR_ID)\n",
    "ax.set_xticklabels(['2003', '2004', '2005'])\n",
    "ax.set_yticks(df1.SALES)\n",
    "\n",
    "\n",
    "# Add bar labels\n",
    "for bar, SALE in zip(bars, sales_in_millions):\n",
    "    label = bar.get_height()\n",
    "    plt.text(bar.get_x() + bar.get_width()/2, label+0.05 , round(label, 2), \n",
    "           ha='center', va='bottom')\n",
    "    \n",
    "plt.show();"
   ]
  },
  {
   "cell_type": "markdown",
   "id": "cbbee526",
   "metadata": {},
   "source": [
    "### Q2. Which Month Had The Most Sales?"
   ]
  },
  {
   "cell_type": "code",
   "execution_count": 58,
   "id": "06d2278d",
   "metadata": {},
   "outputs": [
    {
     "data": {
      "text/html": [
       "<div>\n",
       "<style scoped>\n",
       "    .dataframe tbody tr th:only-of-type {\n",
       "        vertical-align: middle;\n",
       "    }\n",
       "\n",
       "    .dataframe tbody tr th {\n",
       "        vertical-align: top;\n",
       "    }\n",
       "\n",
       "    .dataframe thead th {\n",
       "        text-align: right;\n",
       "    }\n",
       "</style>\n",
       "<table border=\"1\" class=\"dataframe\">\n",
       "  <thead>\n",
       "    <tr style=\"text-align: right;\">\n",
       "      <th></th>\n",
       "      <th>MONTH_ID</th>\n",
       "      <th>SALES</th>\n",
       "    </tr>\n",
       "  </thead>\n",
       "  <tbody>\n",
       "    <tr>\n",
       "      <th>0</th>\n",
       "      <td>Apr</td>\n",
       "      <td>669390.96</td>\n",
       "    </tr>\n",
       "    <tr>\n",
       "      <th>1</th>\n",
       "      <td>Aug</td>\n",
       "      <td>659310.57</td>\n",
       "    </tr>\n",
       "    <tr>\n",
       "      <th>2</th>\n",
       "      <td>Dec</td>\n",
       "      <td>634679.12</td>\n",
       "    </tr>\n",
       "    <tr>\n",
       "      <th>3</th>\n",
       "      <td>Feb</td>\n",
       "      <td>810441.90</td>\n",
       "    </tr>\n",
       "    <tr>\n",
       "      <th>4</th>\n",
       "      <td>Jan</td>\n",
       "      <td>785874.44</td>\n",
       "    </tr>\n",
       "  </tbody>\n",
       "</table>\n",
       "</div>"
      ],
      "text/plain": [
       "  MONTH_ID      SALES\n",
       "0      Apr  669390.96\n",
       "1      Aug  659310.57\n",
       "2      Dec  634679.12\n",
       "3      Feb  810441.90\n",
       "4      Jan  785874.44"
      ]
     },
     "execution_count": 58,
     "metadata": {},
     "output_type": "execute_result"
    }
   ],
   "source": [
    "df2 = df.groupby('MONTH_ID')['SALES'].sum().reset_index()\n",
    "df2.head()"
   ]
  },
  {
   "cell_type": "code",
   "execution_count": 59,
   "id": "301ec705",
   "metadata": {},
   "outputs": [
    {
     "data": {
      "image/png": "[encoded data removed]",
      "text/plain": [
       "<Figure size 1200x600 with 1 Axes>"
      ]
     },
     "metadata": {},
     "output_type": "display_data"
    }
   ],
   "source": [
    "plot_sales(df2, 'MONTH_ID', 'SALES',  x_labels=['Jan', 'Feb', 'Mar', 'Apr', 'May', 'Jun', \n",
    "                                                'Jul', 'Aug', 'Sep', 'Oct', 'Nov', 'Dec'], \n",
    "           title='Mpnthly Sales in Millions', xlabel='Year')"
   ]
  },
  {
   "cell_type": "code",
   "execution_count": 60,
   "id": "ff4efe83",
   "metadata": {},
   "outputs": [
    {
     "data": {
      "image/png": "[encoded data removed]",
      "text/plain": [
       "<Figure size 2000x800 with 1 Axes>"
      ]
     },
     "metadata": {},
     "output_type": "display_data"
    }
   ],
   "source": [
    "unique_months = df['MONTH_ID'].unique()\n",
    "temp=pd.DataFrame()\n",
    "\n",
    "x_labels=['Jan', 'Feb', 'Mar', 'Apr', 'May', 'Jun', \n",
    "        'Jul', 'Aug', 'Sep', 'Oct', 'Nov', 'Dec']\n",
    "\n",
    "# Create subplots for each year\n",
    "for i, month in enumerate(unique_months):\n",
    "    month_data = df[df['MONTH_ID'] == month]\n",
    "    month_data = month_data.groupby('YEAR_ID')['SALES'].sum().reset_index()\n",
    "    month_data['MONTH_ID'] = month\n",
    "    temp = pd.concat([temp,month_data], ignore_index=True)\n",
    "plt.figure(figsize=(20,8))\n",
    "plt.title(\"Monthly Revenue by Year\") # add title \n",
    "ax = sns.barplot(x='MONTH_ID',y='SALES',data=temp,hue='YEAR_ID')\n",
    "\n",
    "# Set custom x-axis labels\n",
    "ax.set_xticks(range(len(x_labels)))\n",
    "ax.set_xticklabels(x_labels)\n",
    "\n",
    "# Set x-axis label\n",
    "ax.set_xlabel('Month')\n",
    "\n",
    "# Set y-axis label\n",
    "ax.set_ylabel('Sales')\n",
    "\n",
    "plt.show()"
   ]
  },
  {
   "cell_type": "code",
   "execution_count": null,
   "id": "bbccbf82",
   "metadata": {},
   "outputs": [],
   "source": []
  },
  {
   "cell_type": "code",
   "execution_count": null,
   "id": "5ea25fce",
   "metadata": {},
   "outputs": [],
   "source": []
  },
  {
   "cell_type": "markdown",
   "id": "69edcd11",
   "metadata": {},
   "source": [
    "### Q3. Which Country Had The Most Sales?"
   ]
  },
  {
   "cell_type": "code",
   "execution_count": null,
   "id": "8ff1c515",
   "metadata": {},
   "outputs": [],
   "source": []
  },
  {
   "cell_type": "markdown",
   "id": "2c303422",
   "metadata": {},
   "source": [
    "### Q4. Which Country Had More Sales Growth?"
   ]
  },
  {
   "cell_type": "code",
   "execution_count": null,
   "id": "fe3458a8",
   "metadata": {},
   "outputs": [],
   "source": []
  },
  {
   "cell_type": "markdown",
   "id": "40ed90ec",
   "metadata": {},
   "source": [
    "### Q5. Which Item Had Sold The Most in 2003?"
   ]
  },
  {
   "cell_type": "code",
   "execution_count": null,
   "id": "cb1c28d3",
   "metadata": {},
   "outputs": [],
   "source": []
  },
  {
   "cell_type": "markdown",
   "id": "2d20156c",
   "metadata": {},
   "source": [
    "### Q6. Which Item Had Sold The Most in 2004?"
   ]
  },
  {
   "cell_type": "code",
   "execution_count": null,
   "id": "145293fa",
   "metadata": {},
   "outputs": [],
   "source": []
  },
  {
   "cell_type": "markdown",
   "id": "fa1c031b",
   "metadata": {},
   "source": [
    "### Q7. Which Item Had Sold The Most in 2005?"
   ]
  },
  {
   "cell_type": "code",
   "execution_count": null,
   "id": "66d233d6",
   "metadata": {},
   "outputs": [],
   "source": []
  },
  {
   "cell_type": "markdown",
   "id": "18bb3c7a",
   "metadata": {},
   "source": [
    "### Q8. Who are the Top 20% Customers?"
   ]
  },
  {
   "cell_type": "code",
   "execution_count": null,
   "id": "a99f3619",
   "metadata": {},
   "outputs": [],
   "source": []
  },
  {
   "cell_type": "markdown",
   "id": "6b597ffe",
   "metadata": {},
   "source": [
    "### Q9. Which Amount of Revenue is Contributed by the Top 20% of Customers?"
   ]
  },
  {
   "cell_type": "code",
   "execution_count": null,
   "id": "fafe2a5a",
   "metadata": {},
   "outputs": [],
   "source": []
  },
  {
   "cell_type": "code",
   "execution_count": null,
   "id": "9898e33f",
   "metadata": {},
   "outputs": [],
   "source": []
  },
  {
   "cell_type": "code",
   "execution_count": null,
   "id": "33b9fb19",
   "metadata": {},
   "outputs": [],
   "source": []
  },
  {
   "cell_type": "code",
   "execution_count": null,
   "id": "b2d3ff1a",
   "metadata": {},
   "outputs": [],
   "source": []
  },
  {
   "cell_type": "code",
   "execution_count": null,
   "id": "3fefd02e",
   "metadata": {},
   "outputs": [],
   "source": []
  },
  {
   "cell_type": "code",
   "execution_count": null,
   "id": "13c53b75",
   "metadata": {},
   "outputs": [],
   "source": []
  }
 ],
 "metadata": {
  "kernelspec": {
   "display_name": "Python 3 (ipykernel)",
   "language": "python",
   "name": "python3"
  },
  "language_info": {
   "codemirror_mode": {
    "name": "ipython",
    "version": 3
   },
   "file_extension": ".py",
   "mimetype": "text/x-python",
   "name": "python",
   "nbconvert_exporter": "python",
   "pygments_lexer": "ipython3",
   "version": "3.11.5"
  }
 },
 "nbformat": 4,
 "nbformat_minor": 5
}
